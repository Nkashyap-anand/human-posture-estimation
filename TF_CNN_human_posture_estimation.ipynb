{
  "cells": [
    {
      "cell_type": "markdown",
      "metadata": {
        "id": "view-in-github",
        "colab_type": "text"
      },
      "source": [
        "<a href=\"https://colab.research.google.com/github/Nkashyap-anand/human-posture-estimation/blob/main/TF_CNN_human_posture_estimation.ipynb\" target=\"_parent\"><img src=\"https://colab.research.google.com/assets/colab-badge.svg\" alt=\"Open In Colab\"/></a>"
      ]
    },
    {
      "cell_type": "code",
      "execution_count": 2,
      "id": "cd0284b2",
      "metadata": {
        "id": "cd0284b2"
      },
      "outputs": [],
      "source": [
        "from tensorflow.keras.preprocessing.image import ImageDataGenerator\n",
        "from tensorflow.keras.preprocessing import image\n",
        "from tensorflow.keras.optimizers import RMSprop\n",
        "import tensorflow as tf\n",
        "import numpy as np\n",
        "from time import sleep as s\n",
        "import cv2\n",
        "import os\n",
        "import pandas as pd\n",
        "import random as rm"
      ]
    },
    {
      "cell_type": "code",
      "execution_count": 3,
      "id": "9a33e609",
      "metadata": {
        "id": "9a33e609"
      },
      "outputs": [],
      "source": [
        "train = ImageDataGenerator(rescale=1/255)\n",
        "validation = ImageDataGenerator(rescale=1/255)"
      ]
    },
    {
      "cell_type": "code",
      "execution_count": 4,
      "id": "65eaaaad",
      "metadata": {
        "id": "65eaaaad",
        "outputId": "a5036c4d-5b93-4f57-fb8f-e7f3ddc9cacc",
        "colab": {
          "base_uri": "https://localhost:8080/"
        }
      },
      "outputs": [
        {
          "output_type": "stream",
          "name": "stdout",
          "text": [
            "Found 2880 images belonging to 4 classes.\n",
            "Found 960 images belonging to 4 classes.\n",
            "Found 960 images belonging to 4 classes.\n"
          ]
        }
      ],
      "source": [
        "train_dataset = train.flow_from_directory( \"/content/drive/MyDrive/posture/training\",\n",
        "                                          target_size= (512,512),\n",
        "                                          batch_size= 4,\n",
        "                                          class_mode=\"categorical\")\n",
        "validation_dataset = train.flow_from_directory( \"/content/drive/MyDrive/posture/validation\",\n",
        "                                          target_size= (512,512),\n",
        "                                          batch_size= 4,\n",
        "                                          class_mode=\"categorical\")\n",
        "test_dataset = train.flow_from_directory(\"/content/drive/MyDrive/posture/testing\",\n",
        "                                    target_size= (512,512),\n",
        "                                    batch_size= 4,\n",
        "                                    class_mode=\"categorical\")"
      ]
    },
    {
      "cell_type": "code",
      "source": [
        "from google.colab import drive\n",
        "drive.mount('/content/drive')"
      ],
      "metadata": {
        "colab": {
          "base_uri": "https://localhost:8080/"
        },
        "id": "fZEMC3jNrLQr",
        "outputId": "82255369-2b08-4c6c-96ba-632e7461095e"
      },
      "id": "fZEMC3jNrLQr",
      "execution_count": 5,
      "outputs": [
        {
          "output_type": "stream",
          "name": "stdout",
          "text": [
            "Drive already mounted at /content/drive; to attempt to forcibly remount, call drive.mount(\"/content/drive\", force_remount=True).\n"
          ]
        }
      ]
    },
    {
      "cell_type": "code",
      "execution_count": 6,
      "id": "7fc2b83a",
      "metadata": {
        "id": "7fc2b83a"
      },
      "outputs": [],
      "source": [
        "model = tf.keras.models.Sequential([\n",
        "tf.keras.layers.Conv2D(16,(3,3),activation =\"relu\", input_shape =(512,512,3)),\n",
        "tf.keras.layers.MaxPool2D(2,2),\n",
        "tf.keras.layers.Conv2D(32,(3,3),activation =\"relu\"),\n",
        "tf.keras.layers.MaxPool2D(2,2),\n",
        "tf.keras.layers.Conv2D(64,(3,3),activation =\"relu\"),\n",
        "tf.keras.layers.MaxPool2D(2,2),\n",
        "# tf.keras.layers.Conv2D(128,(3,3),activation =\"relu\"),\n",
        "# tf.keras.layers.MaxPool2D(2,2),\n",
        "# tf.keras.layers.Conv2D(256,(3,3),activation =\"relu\"),\n",
        "# tf.keras.layers.MaxPool2D(2,2),\n",
        "tf.keras.layers.Flatten(),\n",
        "tf.keras.layers.Dense(64, activation = \"relu\"),\n",
        "tf.keras.layers.Dense(4,activation =\"softmax\")])"
      ]
    },
    {
      "cell_type": "code",
      "execution_count": 7,
      "id": "a1aa7f10",
      "metadata": {
        "scrolled": false,
        "id": "a1aa7f10",
        "outputId": "fe42177f-012c-4cd0-af41-fd11dd77fa20",
        "colab": {
          "base_uri": "https://localhost:8080/"
        }
      },
      "outputs": [
        {
          "output_type": "stream",
          "name": "stdout",
          "text": [
            "Model: \"sequential\"\n",
            "_________________________________________________________________\n",
            " Layer (type)                Output Shape              Param #   \n",
            "=================================================================\n",
            " conv2d (Conv2D)             (None, 510, 510, 16)      448       \n",
            "                                                                 \n",
            " max_pooling2d (MaxPooling2D  (None, 255, 255, 16)     0         \n",
            " )                                                               \n",
            "                                                                 \n",
            " conv2d_1 (Conv2D)           (None, 253, 253, 32)      4640      \n",
            "                                                                 \n",
            " max_pooling2d_1 (MaxPooling  (None, 126, 126, 32)     0         \n",
            " 2D)                                                             \n",
            "                                                                 \n",
            " conv2d_2 (Conv2D)           (None, 124, 124, 64)      18496     \n",
            "                                                                 \n",
            " max_pooling2d_2 (MaxPooling  (None, 62, 62, 64)       0         \n",
            " 2D)                                                             \n",
            "                                                                 \n",
            " flatten (Flatten)           (None, 246016)            0         \n",
            "                                                                 \n",
            " dense (Dense)               (None, 64)                15745088  \n",
            "                                                                 \n",
            " dense_1 (Dense)             (None, 4)                 260       \n",
            "                                                                 \n",
            "=================================================================\n",
            "Total params: 15,768,932\n",
            "Trainable params: 15,768,932\n",
            "Non-trainable params: 0\n",
            "_________________________________________________________________\n"
          ]
        }
      ],
      "source": [
        "model.summary()"
      ]
    },
    {
      "cell_type": "code",
      "execution_count": 8,
      "id": "1b3261bb",
      "metadata": {
        "id": "1b3261bb"
      },
      "outputs": [],
      "source": [
        "model.compile(loss=\"categorical_crossentropy\" , optimizer=\"adam\" ,metrics =[\"accuracy\"])"
      ]
    },
    {
      "cell_type": "code",
      "execution_count": 9,
      "id": "ff88bdba",
      "metadata": {
        "scrolled": true,
        "id": "ff88bdba",
        "outputId": "3d84cea4-b1d2-4c07-ac68-00774601208d",
        "colab": {
          "base_uri": "https://localhost:8080/"
        }
      },
      "outputs": [
        {
          "output_type": "stream",
          "name": "stdout",
          "text": [
            "Epoch 1/35\n",
            "32/32 [==============================] - 338s 11s/step - loss: 3.0072 - accuracy: 0.3594 - val_loss: 1.0846 - val_accuracy: 0.4313\n",
            "Epoch 2/35\n",
            "32/32 [==============================] - 106s 3s/step - loss: 1.0181 - accuracy: 0.5781 - val_loss: 1.0657 - val_accuracy: 0.5250\n",
            "Epoch 3/35\n",
            "32/32 [==============================] - 107s 3s/step - loss: 0.9993 - accuracy: 0.5859 - val_loss: 0.9601 - val_accuracy: 0.5802\n",
            "Epoch 4/35\n",
            "32/32 [==============================] - 108s 3s/step - loss: 0.7533 - accuracy: 0.7344 - val_loss: 0.8268 - val_accuracy: 0.7094\n",
            "Epoch 5/35\n",
            "32/32 [==============================] - 107s 3s/step - loss: 0.7523 - accuracy: 0.7656 - val_loss: 0.7981 - val_accuracy: 0.7250\n",
            "Epoch 6/35\n",
            "32/32 [==============================] - 104s 3s/step - loss: 0.8190 - accuracy: 0.7031 - val_loss: 0.7544 - val_accuracy: 0.7167\n",
            "Epoch 7/35\n",
            "32/32 [==============================] - 105s 3s/step - loss: 0.6710 - accuracy: 0.7578 - val_loss: 0.7399 - val_accuracy: 0.7292\n",
            "Epoch 8/35\n",
            "32/32 [==============================] - 104s 3s/step - loss: 0.6504 - accuracy: 0.8047 - val_loss: 0.7061 - val_accuracy: 0.7437\n",
            "Epoch 9/35\n",
            "32/32 [==============================] - 104s 3s/step - loss: 0.6013 - accuracy: 0.7969 - val_loss: 0.6739 - val_accuracy: 0.7531\n",
            "Epoch 10/35\n",
            "32/32 [==============================] - 104s 3s/step - loss: 0.4289 - accuracy: 0.8438 - val_loss: 0.6967 - val_accuracy: 0.7563\n",
            "Epoch 11/35\n",
            "32/32 [==============================] - 103s 3s/step - loss: 0.6084 - accuracy: 0.7969 - val_loss: 0.6538 - val_accuracy: 0.7750\n",
            "Epoch 12/35\n",
            "32/32 [==============================] - 103s 3s/step - loss: 0.4427 - accuracy: 0.8906 - val_loss: 0.7022 - val_accuracy: 0.7667\n",
            "Epoch 13/35\n",
            "32/32 [==============================] - 104s 3s/step - loss: 0.5013 - accuracy: 0.8359 - val_loss: 0.6518 - val_accuracy: 0.7771\n",
            "Epoch 14/35\n",
            "32/32 [==============================] - 102s 3s/step - loss: 0.3653 - accuracy: 0.8672 - val_loss: 0.6646 - val_accuracy: 0.7771\n",
            "Epoch 15/35\n",
            "32/32 [==============================] - 101s 3s/step - loss: 0.4322 - accuracy: 0.8828 - val_loss: 0.6086 - val_accuracy: 0.7792\n",
            "Epoch 16/35\n",
            "32/32 [==============================] - 101s 3s/step - loss: 0.5052 - accuracy: 0.8438 - val_loss: 0.5343 - val_accuracy: 0.8000\n",
            "Epoch 17/35\n",
            "32/32 [==============================] - 101s 3s/step - loss: 0.3429 - accuracy: 0.8750 - val_loss: 0.5432 - val_accuracy: 0.7979\n",
            "Epoch 18/35\n",
            "32/32 [==============================] - 101s 3s/step - loss: 0.2289 - accuracy: 0.9297 - val_loss: 0.6330 - val_accuracy: 0.8010\n",
            "Epoch 19/35\n",
            "32/32 [==============================] - 101s 3s/step - loss: 0.4668 - accuracy: 0.8672 - val_loss: 0.5063 - val_accuracy: 0.8135\n",
            "Epoch 20/35\n",
            "32/32 [==============================] - 101s 3s/step - loss: 0.2454 - accuracy: 0.8984 - val_loss: 0.5345 - val_accuracy: 0.8031\n",
            "Epoch 21/35\n",
            "32/32 [==============================] - 101s 3s/step - loss: 0.3304 - accuracy: 0.8828 - val_loss: 0.5560 - val_accuracy: 0.8125\n",
            "Epoch 22/35\n",
            "32/32 [==============================] - 101s 3s/step - loss: 0.2177 - accuracy: 0.9062 - val_loss: 0.5616 - val_accuracy: 0.8146\n",
            "Epoch 23/35\n",
            "32/32 [==============================] - 100s 3s/step - loss: 0.2274 - accuracy: 0.9141 - val_loss: 0.6275 - val_accuracy: 0.8042\n",
            "Epoch 24/35\n",
            "32/32 [==============================] - 100s 3s/step - loss: 0.2435 - accuracy: 0.9297 - val_loss: 0.5471 - val_accuracy: 0.8208\n",
            "Epoch 25/35\n",
            "32/32 [==============================] - 100s 3s/step - loss: 0.2695 - accuracy: 0.9453 - val_loss: 0.5374 - val_accuracy: 0.8031\n",
            "Epoch 26/35\n",
            "32/32 [==============================] - 100s 3s/step - loss: 0.2238 - accuracy: 0.9297 - val_loss: 0.5271 - val_accuracy: 0.8250\n",
            "Epoch 27/35\n",
            "32/32 [==============================] - 100s 3s/step - loss: 0.1861 - accuracy: 0.9297 - val_loss: 0.5340 - val_accuracy: 0.8219\n",
            "Epoch 28/35\n",
            "32/32 [==============================] - 100s 3s/step - loss: 0.2685 - accuracy: 0.9141 - val_loss: 0.5003 - val_accuracy: 0.8281\n",
            "Epoch 29/35\n",
            "32/32 [==============================] - 100s 3s/step - loss: 0.1990 - accuracy: 0.9219 - val_loss: 0.4726 - val_accuracy: 0.8354\n",
            "Epoch 30/35\n",
            "32/32 [==============================] - 100s 3s/step - loss: 0.2699 - accuracy: 0.9297 - val_loss: 0.4655 - val_accuracy: 0.8281\n",
            "Epoch 31/35\n",
            "32/32 [==============================] - 101s 3s/step - loss: 0.3549 - accuracy: 0.8828 - val_loss: 0.4497 - val_accuracy: 0.8354\n",
            "Epoch 32/35\n",
            "32/32 [==============================] - 101s 3s/step - loss: 0.1944 - accuracy: 0.9375 - val_loss: 0.4647 - val_accuracy: 0.8406\n",
            "Epoch 33/35\n",
            "32/32 [==============================] - 100s 3s/step - loss: 0.1195 - accuracy: 0.9531 - val_loss: 0.5259 - val_accuracy: 0.8385\n",
            "Epoch 34/35\n",
            "32/32 [==============================] - 101s 3s/step - loss: 0.2898 - accuracy: 0.8828 - val_loss: 0.4964 - val_accuracy: 0.8302\n",
            "Epoch 35/35\n",
            "32/32 [==============================] - 100s 3s/step - loss: 0.1361 - accuracy: 0.9453 - val_loss: 0.5113 - val_accuracy: 0.8531\n"
          ]
        }
      ],
      "source": [
        "model_fit = model.fit(train_dataset,\n",
        "                     steps_per_epoch= 32,\n",
        "                     epochs= 35,\n",
        "                     validation_data= validation_dataset)"
      ]
    },
    {
      "cell_type": "code",
      "execution_count": 10,
      "id": "b1275c3a",
      "metadata": {
        "id": "b1275c3a"
      },
      "outputs": [],
      "source": [
        "test_predictions = model.predict(test_dataset)"
      ]
    },
    {
      "cell_type": "code",
      "source": [
        "import matplotlib.pyplot as plt\n",
        "# Get training and test loss histories\n",
        "training_loss = model_fit.history['loss']\n",
        "test_loss = model_fit.history['val_loss']\n",
        "\n",
        "# Create count of the number of epochs\n",
        "epoch_count = range(1, len(training_loss) + 1)\n",
        "\n",
        "# Visualize loss history\n",
        "plt.plot(epoch_count, training_loss, 'r--')\n",
        "plt.plot(epoch_count, test_loss, 'b-')\n",
        "plt.legend(['Training Loss', 'Test Loss'])\n",
        "plt.xlabel('Epoch')\n",
        "plt.ylabel('Loss')\n",
        "plt.show();"
      ],
      "metadata": {
        "colab": {
          "base_uri": "https://localhost:8080/",
          "height": 279
        },
        "id": "YSrYyCiTO7L7",
        "outputId": "d775b651-3bd4-4b08-99cb-7effbb495731"
      },
      "id": "YSrYyCiTO7L7",
      "execution_count": 11,
      "outputs": [
        {
          "output_type": "display_data",
          "data": {
            "text/plain": [
              "<Figure size 432x288 with 1 Axes>"
            ],
            "image/png": "[encoded data removed]"
          },
          "metadata": {
            "needs_background": "light"
          }
        }
      ]
    }
  ],
  "metadata": {
    "kernelspec": {
      "display_name": "gputest",
      "language": "python",
      "name": "gputest"
    },
    "language_info": {
      "codemirror_mode": {
        "name": "ipython",
        "version": 3
      },
      "file_extension": ".py",
      "mimetype": "text/x-python",
      "name": "python",
      "nbconvert_exporter": "python",
      "pygments_lexer": "ipython3",
      "version": "3.9.12"
    },
    "colab": {
      "provenance": [],
      "collapsed_sections": [],
      "include_colab_link": true
    }
  },
  "nbformat": 4,
  "nbformat_minor": 5
}