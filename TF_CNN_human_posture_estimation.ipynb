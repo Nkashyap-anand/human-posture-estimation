{
  "cells": [
    {
      "cell_type": "markdown",
      "metadata": {
        "id": "view-in-github",
        "colab_type": "text"
      },
      "source": [
        "<a href=\"https://colab.research.google.com/github/Nkashyap-anand/human-posture-estimation/blob/main/TF_CNN_human_posture_estimation.ipynb\" target=\"_parent\"><img src=\"https://colab.research.google.com/assets/colab-badge.svg\" alt=\"Open In Colab\"/></a>"
      ]
    },
    {
      "cell_type": "code",
      "execution_count": null,
      "id": "cd0284b2",
      "metadata": {
        "id": "cd0284b2"
      },
      "outputs": [],
      "source": [
        "from tensorflow.keras.preprocessing.image import ImageDataGenerator\n",
        "from tensorflow.keras.preprocessing import image\n",
        "from tensorflow.keras.optimizers import RMSprop\n",
        "import tensorflow as tf\n",
        "import numpy as np\n",
        "from time import sleep as s\n",
        "import cv2\n",
        "import os\n",
        "import pandas as pd\n",
        "import random as rm"
      ]
    },
    {
      "cell_type": "code",
      "execution_count": null,
      "id": "9a33e609",
      "metadata": {
        "id": "9a33e609"
      },
      "outputs": [],
      "source": [
        "train = ImageDataGenerator(rescale=1/255)\n",
        "validation = ImageDataGenerator(rescale=1/255)"
      ]
    },
    {
      "cell_type": "code",
      "execution_count": null,
      "id": "65eaaaad",
      "metadata": {
        "id": "65eaaaad",
        "outputId": "7aa7c4f3-c3ee-43c1-dc0d-bc6ecfe04c64"
      },
      "outputs": [
        {
          "name": "stdout",
          "output_type": "stream",
          "text": [
            "Found 2880 images belonging to 4 classes.\n",
            "Found 960 images belonging to 4 classes.\n",
            "Found 960 images belonging to 4 classes.\n"
          ]
        }
      ],
      "source": [
        "train_dataset = train.flow_from_directory( \"posture/training\",\n",
        "                                          target_size= (512,512),\n",
        "                                          batch_size= 4,\n",
        "                                          class_mode=\"categorical\")\n",
        "validation_dataset = train.flow_from_directory( \"posture/validation\",\n",
        "                                          target_size= (512,512),\n",
        "                                          batch_size= 4,\n",
        "                                          class_mode=\"categorical\")\n",
        "test_dataset = train.flow_from_directory(\"posture/testing\",\n",
        "                                    target_size= (512,512),\n",
        "                                    batch_size= 4,\n",
        "                                    class_mode=\"categorical\")"
      ]
    },
    {
      "cell_type": "code",
      "execution_count": null,
      "id": "7fc2b83a",
      "metadata": {
        "id": "7fc2b83a"
      },
      "outputs": [],
      "source": [
        "model = tf.keras.models.Sequential([\n",
        "tf.keras.layers.Conv2D(16,(3,3),activation =\"relu\", input_shape =(512,512,3)),\n",
        "tf.keras.layers.MaxPool2D(2,2),\n",
        "tf.keras.layers.Conv2D(32,(3,3),activation =\"relu\"),\n",
        "tf.keras.layers.MaxPool2D(2,2),\n",
        "tf.keras.layers.Conv2D(64,(3,3),activation =\"relu\"),\n",
        "tf.keras.layers.MaxPool2D(2,2),\n",
        "# tf.keras.layers.Conv2D(128,(3,3),activation =\"relu\"),\n",
        "# tf.keras.layers.MaxPool2D(2,2),\n",
        "# tf.keras.layers.Conv2D(256,(3,3),activation =\"relu\"),\n",
        "# tf.keras.layers.MaxPool2D(2,2),\n",
        "tf.keras.layers.Flatten(),\n",
        "tf.keras.layers.Dense(64, activation = \"relu\"),\n",
        "tf.keras.layers.Dense(4,activation =\"softmax\")])"
      ]
    },
    {
      "cell_type": "code",
      "execution_count": null,
      "id": "a1aa7f10",
      "metadata": {
        "scrolled": false,
        "id": "a1aa7f10",
        "outputId": "bea9d529-9782-4a0f-e95e-e74e2ce773c0"
      },
      "outputs": [
        {
          "name": "stdout",
          "output_type": "stream",
          "text": [
            "Model: \"sequential_5\"\n",
            "_________________________________________________________________\n",
            " Layer (type)                Output Shape              Param #   \n",
            "=================================================================\n",
            " conv2d_15 (Conv2D)          (None, 510, 510, 16)      448       \n",
            "                                                                 \n",
            " max_pooling2d_15 (MaxPoolin  (None, 255, 255, 16)     0         \n",
            " g2D)                                                            \n",
            "                                                                 \n",
            " conv2d_16 (Conv2D)          (None, 253, 253, 32)      4640      \n",
            "                                                                 \n",
            " max_pooling2d_16 (MaxPoolin  (None, 126, 126, 32)     0         \n",
            " g2D)                                                            \n",
            "                                                                 \n",
            " conv2d_17 (Conv2D)          (None, 124, 124, 64)      18496     \n",
            "                                                                 \n",
            " max_pooling2d_17 (MaxPoolin  (None, 62, 62, 64)       0         \n",
            " g2D)                                                            \n",
            "                                                                 \n",
            " flatten_5 (Flatten)         (None, 246016)            0         \n",
            "                                                                 \n",
            " dense_10 (Dense)            (None, 64)                15745088  \n",
            "                                                                 \n",
            " dense_11 (Dense)            (None, 4)                 260       \n",
            "                                                                 \n",
            "=================================================================\n",
            "Total params: 15,768,932\n",
            "Trainable params: 15,768,932\n",
            "Non-trainable params: 0\n",
            "_________________________________________________________________\n"
          ]
        }
      ],
      "source": [
        "model.summary()"
      ]
    },
    {
      "cell_type": "code",
      "execution_count": null,
      "id": "1b3261bb",
      "metadata": {
        "id": "1b3261bb"
      },
      "outputs": [],
      "source": [
        "model.compile(loss=\"categorical_crossentropy\" , optimizer=\"adam\" ,metrics =[\"accuracy\"])"
      ]
    },
    {
      "cell_type": "code",
      "execution_count": null,
      "id": "ff88bdba",
      "metadata": {
        "scrolled": true,
        "id": "ff88bdba",
        "outputId": "49afd45c-5c23-41c6-ae55-2386fe4012d7"
      },
      "outputs": [
        {
          "name": "stdout",
          "output_type": "stream",
          "text": [
            "Epoch 1/50\n",
            "32/32 [==============================] - 7s 210ms/step - loss: 0.8420 - accuracy: 0.6875 - val_loss: 0.7637 - val_accuracy: 0.7104\n",
            "Epoch 2/50\n",
            "32/32 [==============================] - 7s 216ms/step - loss: 0.6828 - accuracy: 0.7656 - val_loss: 0.7052 - val_accuracy: 0.7375\n",
            "Epoch 3/50\n",
            "32/32 [==============================] - 7s 229ms/step - loss: 0.4973 - accuracy: 0.8438 - val_loss: 0.7336 - val_accuracy: 0.7344\n",
            "Epoch 4/50\n",
            "32/32 [==============================] - 7s 229ms/step - loss: 0.5660 - accuracy: 0.8047 - val_loss: 0.6788 - val_accuracy: 0.7437\n",
            "Epoch 5/50\n",
            "32/32 [==============================] - 7s 223ms/step - loss: 0.4779 - accuracy: 0.8125 - val_loss: 0.7008 - val_accuracy: 0.7437\n",
            "Epoch 6/50\n",
            "32/32 [==============================] - 10s 309ms/step - loss: 0.5326 - accuracy: 0.8281 - val_loss: 0.6418 - val_accuracy: 0.7698\n",
            "Epoch 7/50\n",
            "32/32 [==============================] - 7s 229ms/step - loss: 0.4465 - accuracy: 0.8672 - val_loss: 0.5965 - val_accuracy: 0.7927\n",
            "Epoch 8/50\n",
            "32/32 [==============================] - 9s 283ms/step - loss: 0.4450 - accuracy: 0.8438 - val_loss: 0.6521 - val_accuracy: 0.7594\n",
            "Epoch 9/50\n",
            "32/32 [==============================] - 10s 329ms/step - loss: 0.3967 - accuracy: 0.8438 - val_loss: 0.6197 - val_accuracy: 0.7750\n",
            "Epoch 10/50\n",
            "32/32 [==============================] - 9s 301ms/step - loss: 0.3660 - accuracy: 0.8828 - val_loss: 0.5887 - val_accuracy: 0.7958\n",
            "Epoch 11/50\n",
            "32/32 [==============================] - 10s 317ms/step - loss: 0.3052 - accuracy: 0.9219 - val_loss: 0.5753 - val_accuracy: 0.7958\n",
            "Epoch 12/50\n",
            "32/32 [==============================] - 9s 278ms/step - loss: 0.4993 - accuracy: 0.8203 - val_loss: 0.5342 - val_accuracy: 0.7990\n",
            "Epoch 13/50\n",
            "32/32 [==============================] - 7s 212ms/step - loss: 0.2654 - accuracy: 0.8984 - val_loss: 0.6301 - val_accuracy: 0.7937\n",
            "Epoch 14/50\n",
            "32/32 [==============================] - 10s 316ms/step - loss: 0.3527 - accuracy: 0.9062 - val_loss: 0.6558 - val_accuracy: 0.7635\n",
            "Epoch 15/50\n",
            "32/32 [==============================] - 8s 262ms/step - loss: 0.4229 - accuracy: 0.8672 - val_loss: 0.5493 - val_accuracy: 0.7927\n",
            "Epoch 16/50\n",
            "32/32 [==============================] - 9s 285ms/step - loss: 0.3656 - accuracy: 0.8984 - val_loss: 0.5497 - val_accuracy: 0.8104\n",
            "Epoch 17/50\n",
            "32/32 [==============================] - 9s 290ms/step - loss: 0.1247 - accuracy: 0.9688 - val_loss: 0.5610 - val_accuracy: 0.8042\n",
            "Epoch 18/50\n",
            "32/32 [==============================] - 6s 203ms/step - loss: 0.2338 - accuracy: 0.9141 - val_loss: 0.6087 - val_accuracy: 0.8073\n",
            "Epoch 19/50\n",
            "32/32 [==============================] - 7s 211ms/step - loss: 0.2004 - accuracy: 0.9609 - val_loss: 0.6763 - val_accuracy: 0.7969\n",
            "Epoch 20/50\n",
            "32/32 [==============================] - 7s 209ms/step - loss: 0.2929 - accuracy: 0.8984 - val_loss: 0.5445 - val_accuracy: 0.8104\n",
            "Epoch 21/50\n",
            "32/32 [==============================] - 6s 192ms/step - loss: 0.2895 - accuracy: 0.8750 - val_loss: 0.5378 - val_accuracy: 0.8167\n",
            "Epoch 22/50\n",
            "32/32 [==============================] - 6s 192ms/step - loss: 0.2252 - accuracy: 0.9375 - val_loss: 0.6007 - val_accuracy: 0.8250\n",
            "Epoch 23/50\n",
            "32/32 [==============================] - 6s 193ms/step - loss: 0.1630 - accuracy: 0.9688 - val_loss: 0.5546 - val_accuracy: 0.8344\n",
            "Epoch 24/50\n",
            "32/32 [==============================] - 6s 200ms/step - loss: 0.2575 - accuracy: 0.9453 - val_loss: 0.5243 - val_accuracy: 0.8313\n",
            "Epoch 25/50\n",
            "32/32 [==============================] - 6s 206ms/step - loss: 0.2429 - accuracy: 0.9141 - val_loss: 0.5308 - val_accuracy: 0.8229\n",
            "Epoch 26/50\n",
            "32/32 [==============================] - 8s 253ms/step - loss: 0.2555 - accuracy: 0.9375 - val_loss: 0.5482 - val_accuracy: 0.8188\n",
            "Epoch 27/50\n",
            "32/32 [==============================] - 33s 1s/step - loss: 0.2362 - accuracy: 0.9297 - val_loss: 0.5266 - val_accuracy: 0.8135\n",
            "Epoch 28/50\n",
            "32/32 [==============================] - 25s 809ms/step - loss: 0.2166 - accuracy: 0.9453 - val_loss: 0.5134 - val_accuracy: 0.8354\n",
            "Epoch 29/50\n",
            "32/32 [==============================] - 6s 188ms/step - loss: 0.2610 - accuracy: 0.9531 - val_loss: 0.5046 - val_accuracy: 0.8260\n",
            "Epoch 30/50\n",
            "32/32 [==============================] - 6s 189ms/step - loss: 0.1201 - accuracy: 0.9688 - val_loss: 0.5183 - val_accuracy: 0.8354\n",
            "Epoch 31/50\n",
            "32/32 [==============================] - 7s 209ms/step - loss: 0.1611 - accuracy: 0.9609 - val_loss: 0.5433 - val_accuracy: 0.8219\n",
            "Epoch 32/50\n",
            "32/32 [==============================] - 7s 232ms/step - loss: 0.0902 - accuracy: 0.9766 - val_loss: 0.5808 - val_accuracy: 0.8302\n",
            "Epoch 33/50\n",
            "32/32 [==============================] - 7s 217ms/step - loss: 0.1221 - accuracy: 0.9531 - val_loss: 0.5842 - val_accuracy: 0.8292\n",
            "Epoch 34/50\n",
            "32/32 [==============================] - 6s 195ms/step - loss: 0.2042 - accuracy: 0.9531 - val_loss: 0.5065 - val_accuracy: 0.8292\n",
            "Epoch 35/50\n",
            "32/32 [==============================] - 6s 189ms/step - loss: 0.2190 - accuracy: 0.9375 - val_loss: 0.5404 - val_accuracy: 0.8313\n",
            "Epoch 36/50\n",
            "32/32 [==============================] - 6s 203ms/step - loss: 0.1389 - accuracy: 0.9453 - val_loss: 0.5510 - val_accuracy: 0.8396\n",
            "Epoch 37/50\n",
            "32/32 [==============================] - 7s 208ms/step - loss: 0.1429 - accuracy: 0.9688 - val_loss: 0.5643 - val_accuracy: 0.8313\n",
            "Epoch 38/50\n",
            "32/32 [==============================] - 7s 213ms/step - loss: 0.1603 - accuracy: 0.9375 - val_loss: 0.5438 - val_accuracy: 0.8396\n",
            "Epoch 39/50\n",
            "32/32 [==============================] - 6s 194ms/step - loss: 0.1483 - accuracy: 0.9531 - val_loss: 0.5146 - val_accuracy: 0.8344\n",
            "Epoch 40/50\n",
            "32/32 [==============================] - 6s 195ms/step - loss: 0.1381 - accuracy: 0.9609 - val_loss: 0.5515 - val_accuracy: 0.8333\n",
            "Epoch 41/50\n",
            "32/32 [==============================] - 6s 204ms/step - loss: 0.1445 - accuracy: 0.9688 - val_loss: 0.5291 - val_accuracy: 0.8292\n",
            "Epoch 42/50\n",
            "32/32 [==============================] - 7s 207ms/step - loss: 0.1548 - accuracy: 0.9688 - val_loss: 0.4802 - val_accuracy: 0.8375\n",
            "Epoch 43/50\n",
            "32/32 [==============================] - 33s 1s/step - loss: 0.0725 - accuracy: 0.9766 - val_loss: 0.5696 - val_accuracy: 0.8281\n",
            "Epoch 44/50\n",
            "32/32 [==============================] - 29s 919ms/step - loss: 0.0630 - accuracy: 0.9766 - val_loss: 0.6151 - val_accuracy: 0.8375\n",
            "Epoch 45/50\n",
            "32/32 [==============================] - 6s 183ms/step - loss: 0.0391 - accuracy: 0.9844 - val_loss: 0.7053 - val_accuracy: 0.8354\n",
            "Epoch 46/50\n",
            "32/32 [==============================] - 6s 194ms/step - loss: 0.0479 - accuracy: 0.9766 - val_loss: 0.7120 - val_accuracy: 0.8260\n",
            "Epoch 47/50\n",
            "32/32 [==============================] - 6s 195ms/step - loss: 0.0490 - accuracy: 0.9844 - val_loss: 0.6909 - val_accuracy: 0.8302\n",
            "Epoch 48/50\n",
            "32/32 [==============================] - 6s 200ms/step - loss: 0.0677 - accuracy: 0.9922 - val_loss: 0.6679 - val_accuracy: 0.8354\n",
            "Epoch 49/50\n",
            "32/32 [==============================] - 6s 190ms/step - loss: 0.0549 - accuracy: 0.9844 - val_loss: 0.6359 - val_accuracy: 0.8313\n",
            "Epoch 50/50\n",
            "32/32 [==============================] - 6s 187ms/step - loss: 0.0189 - accuracy: 1.0000 - val_loss: 0.7046 - val_accuracy: 0.8354\n"
          ]
        }
      ],
      "source": [
        "model_fit = model.fit(train_dataset,\n",
        "                     steps_per_epoch= 32,\n",
        "                     epochs= 50,\n",
        "                     validation_data= validation_dataset)"
      ]
    },
    {
      "cell_type": "code",
      "execution_count": null,
      "id": "b1275c3a",
      "metadata": {
        "id": "b1275c3a"
      },
      "outputs": [],
      "source": []
    }
  ],
  "metadata": {
    "kernelspec": {
      "display_name": "gputest",
      "language": "python",
      "name": "gputest"
    },
    "language_info": {
      "codemirror_mode": {
        "name": "ipython",
        "version": 3
      },
      "file_extension": ".py",
      "mimetype": "text/x-python",
      "name": "python",
      "nbconvert_exporter": "python",
      "pygments_lexer": "ipython3",
      "version": "3.9.12"
    },
    "colab": {
      "provenance": [],
      "include_colab_link": true
    }
  },
  "nbformat": 4,
  "nbformat_minor": 5
}